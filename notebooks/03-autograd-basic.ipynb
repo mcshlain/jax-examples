{
 "cells": [
  {
   "cell_type": "code",
   "execution_count": 33,
   "id": "7c51fd1b",
   "metadata": {},
   "outputs": [],
   "source": [
    "import jax.numpy as jnp\n",
    "from jax import grad, jit, vmap\n",
    "from jax import random\n",
    "from jax.tree_util import register_pytree_node"
   ]
  },
  {
   "cell_type": "markdown",
   "id": "1cf8b8fe",
   "metadata": {},
   "source": [
    "### Getting Gradients of simple functions"
   ]
  },
  {
   "cell_type": "code",
   "execution_count": 34,
   "id": "b9c1c550",
   "metadata": {},
   "outputs": [],
   "source": [
    "def pow2(x):\n",
    "    return jnp.power(x, 2)"
   ]
  },
  {
   "cell_type": "code",
   "execution_count": 35,
   "id": "9f5e17ae",
   "metadata": {},
   "outputs": [
    {
     "data": {
      "text/plain": [
       "DeviceArray(16., dtype=float32)"
      ]
     },
     "execution_count": 35,
     "metadata": {},
     "output_type": "execute_result"
    }
   ],
   "source": [
    "pow2(4.0)"
   ]
  },
  {
   "cell_type": "code",
   "execution_count": 36,
   "id": "d845a553",
   "metadata": {},
   "outputs": [
    {
     "data": {
      "text/plain": [
       "DeviceArray(8., dtype=float32)"
      ]
     },
     "execution_count": 36,
     "metadata": {},
     "output_type": "execute_result"
    }
   ],
   "source": [
    "pow2_der = grad(pow2)\n",
    "pow2_der(4.0)"
   ]
  },
  {
   "cell_type": "code",
   "execution_count": 37,
   "id": "093fc271",
   "metadata": {},
   "outputs": [
    {
     "data": {
      "text/plain": [
       "DeviceArray(2., dtype=float32)"
      ]
     },
     "execution_count": 37,
     "metadata": {},
     "output_type": "execute_result"
    }
   ],
   "source": [
    "pow2_der_der = grad(pow2_der)\n",
    "pow2_der_der(4.0)"
   ]
  },
  {
   "cell_type": "markdown",
   "id": "17c8cfe4",
   "metadata": {},
   "source": [
    "### Getting Gradients of multi param functions"
   ]
  },
  {
   "cell_type": "code",
   "execution_count": 38,
   "id": "f9b9c08f",
   "metadata": {},
   "outputs": [],
   "source": [
    "def pow(x, y):\n",
    "    return jnp.power(x, y)"
   ]
  },
  {
   "cell_type": "code",
   "execution_count": 39,
   "id": "7809dd31",
   "metadata": {},
   "outputs": [
    {
     "data": {
      "text/plain": [
       "DeviceArray(16., dtype=float32)"
      ]
     },
     "execution_count": 39,
     "metadata": {},
     "output_type": "execute_result"
    }
   ],
   "source": [
    "pow(4.0, 2.0)"
   ]
  },
  {
   "cell_type": "code",
   "execution_count": 40,
   "id": "32e86ce1",
   "metadata": {},
   "outputs": [
    {
     "data": {
      "text/plain": [
       "(DeviceArray(8., dtype=float32), DeviceArray(48., dtype=float32))"
      ]
     },
     "execution_count": 40,
     "metadata": {},
     "output_type": "execute_result"
    }
   ],
   "source": [
    "pow_der = grad(pow, argnums=(0)) # dx = argnum = (0)\n",
    "\n",
    "\n",
    "pow_der(4.0, 2.0), pow_der(4.0, 3.0)"
   ]
  },
  {
   "cell_type": "code",
   "execution_count": 41,
   "id": "2fbe6be3",
   "metadata": {},
   "outputs": [
    {
     "data": {
      "text/plain": [
       "(DeviceArray(2., dtype=float32), DeviceArray(24., dtype=float32))"
      ]
     },
     "execution_count": 41,
     "metadata": {},
     "output_type": "execute_result"
    }
   ],
   "source": [
    "pow_der_der = grad(pow_der, argnums=(0)) # dxdx\n",
    "\n",
    "\n",
    "pow_der_der(4.0, 2.0), pow_der_der(4.0, 3.0)"
   ]
  }
 ],
 "metadata": {
  "kernelspec": {
   "display_name": "Python 3",
   "language": "python",
   "name": "python3"
  },
  "language_info": {
   "codemirror_mode": {
    "name": "ipython",
    "version": 3
   },
   "file_extension": ".py",
   "mimetype": "text/x-python",
   "name": "python",
   "nbconvert_exporter": "python",
   "pygments_lexer": "ipython3",
   "version": "3.8.8"
  }
 },
 "nbformat": 4,
 "nbformat_minor": 5
}
