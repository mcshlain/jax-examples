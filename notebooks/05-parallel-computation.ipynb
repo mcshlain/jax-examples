{
 "cells": [
  {
   "cell_type": "code",
   "execution_count": 5,
   "id": "7c51fd1b",
   "metadata": {},
   "outputs": [],
   "source": [
    "import jax.numpy as jnp\n",
    "from jax import grad, jit, vmap, pmap\n",
    "from jax import random\n",
    "from jax.tree_util import register_pytree_node\n",
    "import jax\n",
    "import jax.tools"
   ]
  },
  {
   "cell_type": "markdown",
   "id": "625bacea",
   "metadata": {},
   "source": [
    "### Checking available devices"
   ]
  },
  {
   "cell_type": "code",
   "execution_count": 6,
   "id": "1d68c8cb",
   "metadata": {},
   "outputs": [
    {
     "name": "stderr",
     "output_type": "stream",
     "text": [
      "WARNING:absl:No GPU/TPU found, falling back to CPU. (Set TF_CPP_MIN_LOG_LEVEL=0 and rerun for more info.)\n"
     ]
    },
    {
     "data": {
      "text/plain": [
       "[CpuDevice(id=0)]"
      ]
     },
     "execution_count": 6,
     "metadata": {},
     "output_type": "execute_result"
    }
   ],
   "source": [
    "jax.devices()"
   ]
  },
  {
   "cell_type": "markdown",
   "id": "1cf8b8fe",
   "metadata": {},
   "source": [
    "### Simple batched function computed in parallel"
   ]
  },
  {
   "cell_type": "code",
   "execution_count": 10,
   "id": "b9c1c550",
   "metadata": {},
   "outputs": [],
   "source": [
    "def pow2(x):\n",
    "    return jnp.power(x, 2)"
   ]
  },
  {
   "cell_type": "code",
   "execution_count": 11,
   "id": "9f5e17ae",
   "metadata": {},
   "outputs": [
    {
     "data": {
      "text/plain": [
       "ShardedDeviceArray([[ 1.,  4.,  9., 16.]], dtype=float32)"
      ]
     },
     "execution_count": 11,
     "metadata": {},
     "output_type": "execute_result"
    }
   ],
   "source": [
    "parallel_pow2 = pmap(pow2, in_axes=(0))\n",
    "\n",
    "# we have to provide number of batches that fits the available devices\n",
    "\n",
    "X = jnp.array([1,2,3,4], dtype=jnp.float32)\n",
    "\n",
    "X_batched = jnp.array(jnp.split(X, 1))\n",
    "\n",
    "parallel_pow2(X_batched)"
   ]
  },
  {
   "cell_type": "markdown",
   "id": "17c8cfe4",
   "metadata": {},
   "source": [
    "### Joining parallel computations (collective ops jax.lax.p*)"
   ]
  },
  {
   "cell_type": "code",
   "execution_count": 11,
   "id": "f9b9c08f",
   "metadata": {},
   "outputs": [],
   "source": [
    "def normalized_convolution(x, w):\n",
    "  output = []\n",
    "  for i in range(1, len(x)-1):\n",
    "    output.append(jnp.dot(x[i-1:i+2], w))\n",
    "  output = jnp.array(output)\n",
    "  return output / jax.lax.psum(output, axis_name='p')\n"
   ]
  },
  {
   "cell_type": "code",
   "execution_count": 14,
   "id": "0dc6d509",
   "metadata": {},
   "outputs": [
    {
     "name": "stdout",
     "output_type": "stream",
     "text": [
      "[[0 1 2 3 4]]\n",
      "[[2. 3. 4.]]\n"
     ]
    }
   ],
   "source": [
    "n_devices = jax.local_device_count() \n",
    "xs = jnp.arange(5 * n_devices).reshape(-1, 5)\n",
    "ws = jnp.stack([w] * n_devices)\n",
    "\n",
    "print(xs)\n",
    "print(ws)"
   ]
  },
  {
   "cell_type": "code",
   "execution_count": 15,
   "id": "1e3b8bfa",
   "metadata": {},
   "outputs": [
    {
     "data": {
      "text/plain": [
       "DeviceArray([[1., 1., 1.]], dtype=float32)"
      ]
     },
     "execution_count": 15,
     "metadata": {},
     "output_type": "execute_result"
    }
   ],
   "source": [
    "vmap(normalized_convolution, axis_name='p')(xs, ws)"
   ]
  }
 ],
 "metadata": {
  "kernelspec": {
   "display_name": "Python 3",
   "language": "python",
   "name": "python3"
  },
  "language_info": {
   "codemirror_mode": {
    "name": "ipython",
    "version": 3
   },
   "file_extension": ".py",
   "mimetype": "text/x-python",
   "name": "python",
   "nbconvert_exporter": "python",
   "pygments_lexer": "ipython3",
   "version": "3.8.8"
  }
 },
 "nbformat": 4,
 "nbformat_minor": 5
}
