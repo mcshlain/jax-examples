{
 "cells": [
  {
   "cell_type": "code",
   "execution_count": 1,
   "id": "ad0f64af",
   "metadata": {},
   "outputs": [],
   "source": [
    "import jax.numpy as jnp\n",
    "from jax import grad, jit, vmap\n",
    "from jax import random"
   ]
  },
  {
   "cell_type": "markdown",
   "id": "a45d7236",
   "metadata": {},
   "source": [
    "### Simple function"
   ]
  },
  {
   "cell_type": "code",
   "execution_count": 2,
   "id": "8db37447",
   "metadata": {},
   "outputs": [],
   "source": [
    "def linear(x, w, b):\n",
    "    return jnp.dot(x,w) + b"
   ]
  },
  {
   "cell_type": "code",
   "execution_count": 3,
   "id": "e508f6fc",
   "metadata": {},
   "outputs": [
    {
     "name": "stderr",
     "output_type": "stream",
     "text": [
      "WARNING:absl:No GPU/TPU found, falling back to CPU. (Set TF_CPP_MIN_LOG_LEVEL=0 and rerun for more info.)\n"
     ]
    }
   ],
   "source": [
    "x = jnp.array([1,2,3,4,5], dtype=jnp.float32)\n",
    "w = jnp.array([0.5, 0.4, 0.6, 0.8, 0.9], dtype=jnp.float32)\n",
    "b = jnp.array([-1,-3,-6,-19,-2], dtype=jnp.float32)"
   ]
  },
  {
   "cell_type": "code",
   "execution_count": 4,
   "id": "b4e538f8",
   "metadata": {},
   "outputs": [
    {
     "data": {
      "text/plain": [
       "DeviceArray([ 9.8,  7.8,  4.8, -8.2,  8.8], dtype=float32)"
      ]
     },
     "execution_count": 4,
     "metadata": {},
     "output_type": "execute_result"
    }
   ],
   "source": [
    "linear(x, w, b)"
   ]
  },
  {
   "cell_type": "markdown",
   "id": "f02a8c2a",
   "metadata": {},
   "source": [
    "### Vectorization (batching)"
   ]
  },
  {
   "cell_type": "code",
   "execution_count": 5,
   "id": "d967d4c8",
   "metadata": {},
   "outputs": [],
   "source": [
    "linear_batched = vmap(linear,in_axes=(0, None, None)) # in_axes to specify what function param to batch\n",
    "                                                      # axis 0 of param 1, others don't batch (None)"
   ]
  },
  {
   "cell_type": "code",
   "execution_count": 6,
   "id": "5636ee24",
   "metadata": {},
   "outputs": [],
   "source": [
    "x_batch = jnp.array([\n",
    "                [1,2,3,4,5],\n",
    "                [6,7,8,9,10],\n",
    "                [11,12,13,14,15],\n",
    "              ], dtype=jnp.float32)"
   ]
  },
  {
   "cell_type": "code",
   "execution_count": 7,
   "id": "41aabea5",
   "metadata": {},
   "outputs": [
    {
     "data": {
      "text/plain": [
       "DeviceArray([[ 9.8     ,  7.8     ,  4.8     , -8.2     ,  8.8     ],\n",
       "             [25.800001, 23.800001, 20.800001,  7.800001, 24.800001],\n",
       "             [41.8     , 39.8     , 36.8     , 23.8     , 40.8     ]],            dtype=float32)"
      ]
     },
     "execution_count": 7,
     "metadata": {},
     "output_type": "execute_result"
    }
   ],
   "source": [
    "linear_batched(x_batch, w, b) # now first param expects a batch of X instead of a single X"
   ]
  },
  {
   "cell_type": "markdown",
   "id": "346aaa1b",
   "metadata": {},
   "source": [
    "### Vectorization combined with JIT"
   ]
  },
  {
   "cell_type": "code",
   "execution_count": 8,
   "id": "7986378d",
   "metadata": {},
   "outputs": [],
   "source": [
    "optimized_linear_batched = jit(linear_batched)"
   ]
  },
  {
   "cell_type": "code",
   "execution_count": 9,
   "id": "955a3841",
   "metadata": {},
   "outputs": [
    {
     "name": "stdout",
     "output_type": "stream",
     "text": [
      "1.13 ms ± 94 µs per loop (mean ± std. dev. of 7 runs, 100 loops each)\n"
     ]
    }
   ],
   "source": [
    "%timeit -n 100 linear_batched(x_batch, w, b)"
   ]
  },
  {
   "cell_type": "code",
   "execution_count": 10,
   "id": "24b0aad0",
   "metadata": {},
   "outputs": [
    {
     "name": "stdout",
     "output_type": "stream",
     "text": [
      "The slowest run took 17.23 times longer than the fastest. This could mean that an intermediate result is being cached.\n",
      "73.6 µs ± 119 µs per loop (mean ± std. dev. of 7 runs, 100 loops each)\n"
     ]
    }
   ],
   "source": [
    "%timeit -n 100 optimized_linear_batched(x_batch, w, b)"
   ]
  }
 ],
 "metadata": {
  "kernelspec": {
   "display_name": "Python 3",
   "language": "python",
   "name": "python3"
  },
  "language_info": {
   "codemirror_mode": {
    "name": "ipython",
    "version": 3
   },
   "file_extension": ".py",
   "mimetype": "text/x-python",
   "name": "python",
   "nbconvert_exporter": "python",
   "pygments_lexer": "ipython3",
   "version": "3.8.8"
  }
 },
 "nbformat": 4,
 "nbformat_minor": 5
}
