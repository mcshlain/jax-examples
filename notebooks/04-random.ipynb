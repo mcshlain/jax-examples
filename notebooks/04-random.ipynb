{
 "cells": [
  {
   "cell_type": "code",
   "execution_count": 1,
   "id": "7c51fd1b",
   "metadata": {},
   "outputs": [],
   "source": [
    "import jax.numpy as jnp\n",
    "from jax import grad, jit, vmap, pmap\n",
    "from jax import random\n",
    "from jax.tree_util import register_pytree_node\n",
    "import jax\n",
    "import jax.tools\n",
    "\n",
    "from jax import random"
   ]
  },
  {
   "cell_type": "markdown",
   "id": "625bacea",
   "metadata": {},
   "source": [
    "### Generating initial key"
   ]
  },
  {
   "cell_type": "code",
   "execution_count": 2,
   "id": "1d68c8cb",
   "metadata": {},
   "outputs": [
    {
     "name": "stderr",
     "output_type": "stream",
     "text": [
      "WARNING:absl:No GPU/TPU found, falling back to CPU. (Set TF_CPP_MIN_LOG_LEVEL=0 and rerun for more info.)\n"
     ]
    }
   ],
   "source": [
    "key = random.PRNGKey(0)"
   ]
  },
  {
   "cell_type": "code",
   "execution_count": 3,
   "id": "e619cac6",
   "metadata": {},
   "outputs": [
    {
     "data": {
      "text/plain": [
       "DeviceArray(0.41845703, dtype=float32)"
      ]
     },
     "execution_count": 3,
     "metadata": {},
     "output_type": "execute_result"
    }
   ],
   "source": [
    "random.uniform(key)"
   ]
  },
  {
   "cell_type": "code",
   "execution_count": 5,
   "id": "8d88077e",
   "metadata": {},
   "outputs": [
    {
     "data": {
      "text/plain": [
       "DeviceArray(0.41845703, dtype=float32)"
      ]
     },
     "execution_count": 5,
     "metadata": {},
     "output_type": "execute_result"
    }
   ],
   "source": [
    "random.uniform(key) # same result because it's a pure random, and we used the same key"
   ]
  },
  {
   "cell_type": "markdown",
   "id": "de05ac45",
   "metadata": {},
   "source": [
    "### Splitting key to pass to subcomputations"
   ]
  },
  {
   "cell_type": "code",
   "execution_count": 10,
   "id": "31bcd2a3",
   "metadata": {},
   "outputs": [
    {
     "data": {
      "text/plain": [
       "DeviceArray([0, 0], dtype=uint32)"
      ]
     },
     "execution_count": 10,
     "metadata": {},
     "output_type": "execute_result"
    }
   ],
   "source": [
    "key = random.PRNGKey(0)\n",
    "key"
   ]
  },
  {
   "cell_type": "code",
   "execution_count": 14,
   "id": "22555785",
   "metadata": {},
   "outputs": [
    {
     "data": {
      "text/plain": [
       "(array([4146024105,  967050713], dtype=uint32),\n",
       " array([2718843009, 1272950319], dtype=uint32))"
      ]
     },
     "execution_count": 14,
     "metadata": {},
     "output_type": "execute_result"
    }
   ],
   "source": [
    "subkey1, subkey2 = random.split(key)\n",
    "subkey1, subkey2"
   ]
  },
  {
   "cell_type": "code",
   "execution_count": 15,
   "id": "9127f201",
   "metadata": {},
   "outputs": [
    {
     "data": {
      "text/plain": [
       "(DeviceArray(0.5572065, dtype=float32), DeviceArray(0.10536897, dtype=float32))"
      ]
     },
     "execution_count": 15,
     "metadata": {},
     "output_type": "execute_result"
    }
   ],
   "source": [
    "x = random.uniform(subkey1)\n",
    "y = random.uniform(subkey2)\n",
    "\n",
    "x,y"
   ]
  },
  {
   "cell_type": "code",
   "execution_count": 19,
   "id": "1727f2c9",
   "metadata": {},
   "outputs": [
    {
     "data": {
      "text/plain": [
       "[Point(x=0.9411180019378662, y=0.9411180019378662),\n",
       " Point(x=0.2546273469924927, y=0.2546273469924927),\n",
       " Point(x=0.6630877256393433, y=0.6630877256393433),\n",
       " Point(x=0.06263375282287598, y=0.06263375282287598)]"
      ]
     },
     "execution_count": 19,
     "metadata": {},
     "output_type": "execute_result"
    }
   ],
   "source": [
    "### Using random with nested functions\n",
    "class Point:\n",
    "    \n",
    "    def __init__(self, x, y):\n",
    "        self.x = x\n",
    "        self.y = y\n",
    "        \n",
    "    def __repr__(self):\n",
    "        return \"Point(x={}, y={})\".format(self.x, self.y)\n",
    "        \n",
    "\n",
    "def random_point(r_key):\n",
    "    k1, k2 =  random.split(r_key)\n",
    "    return Point(random.uniform(k1), random.uniform(k1))\n",
    "\n",
    "\n",
    "def random_point_array(size, r_key):\n",
    "    result = []\n",
    "    for i in range(size):\n",
    "         # explicit handling of key, to avoid passing the same random (== same random result)\n",
    "        r_key, split_key = random.split(r_key)\n",
    "        result.append(random_point(split_key))\n",
    "    return result\n",
    "    \n",
    "key = random.PRNGKey(0)\n",
    "random_point_array(4, key)"
   ]
  }
 ],
 "metadata": {
  "kernelspec": {
   "display_name": "Python 3",
   "language": "python",
   "name": "python3"
  },
  "language_info": {
   "codemirror_mode": {
    "name": "ipython",
    "version": 3
   },
   "file_extension": ".py",
   "mimetype": "text/x-python",
   "name": "python",
   "nbconvert_exporter": "python",
   "pygments_lexer": "ipython3",
   "version": "3.8.8"
  }
 },
 "nbformat": 4,
 "nbformat_minor": 5
}
