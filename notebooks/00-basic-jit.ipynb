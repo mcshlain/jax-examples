{
 "cells": [
  {
   "cell_type": "code",
   "execution_count": 1,
   "id": "ad0f64af",
   "metadata": {},
   "outputs": [],
   "source": [
    "import jax.numpy as jnp\n",
    "from jax import grad, jit, vmap\n",
    "from jax import random"
   ]
  },
  {
   "cell_type": "markdown",
   "id": "a45d7236",
   "metadata": {},
   "source": [
    "### Simple function"
   ]
  },
  {
   "cell_type": "code",
   "execution_count": 2,
   "id": "8db37447",
   "metadata": {},
   "outputs": [],
   "source": [
    "def linear(x, w, b):\n",
    "    return jnp.dot(x,w) + b"
   ]
  },
  {
   "cell_type": "code",
   "execution_count": 3,
   "id": "e508f6fc",
   "metadata": {},
   "outputs": [
    {
     "name": "stderr",
     "output_type": "stream",
     "text": [
      "WARNING:absl:No GPU/TPU found, falling back to CPU. (Set TF_CPP_MIN_LOG_LEVEL=0 and rerun for more info.)\n"
     ]
    }
   ],
   "source": [
    "x = jnp.array([1,2,3,4,5], dtype=jnp.float32)\n",
    "w = jnp.array([0.5, 0.4, 0.6, 0.8, 0.9], dtype=jnp.float32)\n",
    "b = jnp.array([-1,-3,-6,-19,-2], dtype=jnp.float32)"
   ]
  },
  {
   "cell_type": "code",
   "execution_count": 4,
   "id": "b4e538f8",
   "metadata": {},
   "outputs": [
    {
     "data": {
      "text/plain": [
       "DeviceArray([ 9.8,  7.8,  4.8, -8.2,  8.8], dtype=float32)"
      ]
     },
     "execution_count": 4,
     "metadata": {},
     "output_type": "execute_result"
    }
   ],
   "source": [
    "linear(x, w, b)"
   ]
  },
  {
   "cell_type": "markdown",
   "id": "b094f495",
   "metadata": {},
   "source": [
    "### Just in time compilation"
   ]
  },
  {
   "cell_type": "code",
   "execution_count": 5,
   "id": "ee0bec2b",
   "metadata": {},
   "outputs": [],
   "source": [
    "optimized_linear = jit(linear)"
   ]
  },
  {
   "cell_type": "code",
   "execution_count": 6,
   "id": "63161d7f",
   "metadata": {},
   "outputs": [
    {
     "data": {
      "text/plain": [
       "DeviceArray([ 9.8,  7.8,  4.8, -8.2,  8.8], dtype=float32)"
      ]
     },
     "execution_count": 6,
     "metadata": {},
     "output_type": "execute_result"
    }
   ],
   "source": [
    "optimized_linear(x, w, b) "
   ]
  },
  {
   "cell_type": "code",
   "execution_count": 7,
   "id": "026ef1fe",
   "metadata": {},
   "outputs": [
    {
     "name": "stdout",
     "output_type": "stream",
     "text": [
      "244 µs ± 38.6 µs per loop (mean ± std. dev. of 7 runs, 100 loops each)\n"
     ]
    }
   ],
   "source": [
    "%timeit -n 100 linear(x, w, b).block_until_ready()"
   ]
  },
  {
   "cell_type": "code",
   "execution_count": 8,
   "id": "9e2e192a",
   "metadata": {},
   "outputs": [
    {
     "name": "stdout",
     "output_type": "stream",
     "text": [
      "25.1 µs ± 2.04 µs per loop (mean ± std. dev. of 7 runs, 100 loops each)\n"
     ]
    }
   ],
   "source": [
    "%timeit -n 100 optimized_linear(x, w, b).block_until_ready()"
   ]
  },
  {
   "cell_type": "markdown",
   "id": "f31cea08",
   "metadata": {},
   "source": [
    "### Other jit forms"
   ]
  },
  {
   "cell_type": "code",
   "execution_count": 9,
   "id": "7d97c238",
   "metadata": {},
   "outputs": [
    {
     "data": {
      "text/plain": [
       "(DeviceArray(8, dtype=int32), DeviceArray(9, dtype=int32))"
      ]
     },
     "execution_count": 9,
     "metadata": {},
     "output_type": "execute_result"
    }
   ],
   "source": [
    "plus_one = jit(lambda x: x + 1)\n",
    "\n",
    "@jit\n",
    "def plus_two(x):\n",
    "    return x + 2\n",
    "    \n",
    "plus_one(7), plus_two(7)"
   ]
  }
 ],
 "metadata": {
  "kernelspec": {
   "display_name": "Python 3",
   "language": "python",
   "name": "python3"
  },
  "language_info": {
   "codemirror_mode": {
    "name": "ipython",
    "version": 3
   },
   "file_extension": ".py",
   "mimetype": "text/x-python",
   "name": "python",
   "nbconvert_exporter": "python",
   "pygments_lexer": "ipython3",
   "version": "3.8.8"
  }
 },
 "nbformat": 4,
 "nbformat_minor": 5
}
