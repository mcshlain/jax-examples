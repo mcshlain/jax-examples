{
 "cells": [
  {
   "cell_type": "code",
   "execution_count": 1,
   "id": "197475b3",
   "metadata": {},
   "outputs": [],
   "source": [
    "import jax.numpy as jnp\n",
    "from jax import grad, jit, vmap\n",
    "from jax import random\n",
    "from jax.tree_util import register_pytree_node"
   ]
  },
  {
   "cell_type": "markdown",
   "id": "c7528ae2",
   "metadata": {},
   "source": [
    "### Using structured parameters"
   ]
  },
  {
   "cell_type": "code",
   "execution_count": 26,
   "id": "0f902956",
   "metadata": {},
   "outputs": [],
   "source": [
    "w = jnp.array([0.5, 0.4, 0.6, 0.8, 0.9], dtype=jnp.float32)\n",
    "b = jnp.array([-1,-3,-6,-19,-2], dtype=jnp.float32)\n",
    "x = jnp.array([1,2,3,4,5], dtype=jnp.float32)\n",
    "\n",
    "model = {\n",
    "    \"w\": w,\n",
    "    \"b\": b\n",
    "}"
   ]
  },
  {
   "cell_type": "code",
   "execution_count": 14,
   "id": "e6ff1545",
   "metadata": {},
   "outputs": [],
   "source": [
    "def _linear(x, model):\n",
    "    return jnp.sum(jnp.dot(x, model[\"w\"]) + model[\"b\"])\n",
    "\n",
    "linear = jit(vmap(_linear, in_axes=(0, {\"w\": None, \"b\": None}))) # in axis matches the structure definition"
   ]
  },
  {
   "cell_type": "code",
   "execution_count": 27,
   "id": "b4815f92",
   "metadata": {},
   "outputs": [],
   "source": [
    "X = jnp.array([\n",
    "                [1,2,3,4,5],\n",
    "                [6,7,8,9,10],\n",
    "                [11,12,13,14,15],\n",
    "              ], dtype=jnp.float32)"
   ]
  },
  {
   "cell_type": "code",
   "execution_count": 28,
   "id": "8d6bb66f",
   "metadata": {},
   "outputs": [
    {
     "data": {
      "text/plain": [
       "DeviceArray([ 23.     , 103.00001, 183.     ], dtype=float32)"
      ]
     },
     "execution_count": 28,
     "metadata": {},
     "output_type": "execute_result"
    }
   ],
   "source": [
    "linear(X, model)"
   ]
  },
  {
   "cell_type": "markdown",
   "id": "0a93a389",
   "metadata": {},
   "source": [
    "### Using structured parameters (batch based on internal structure)"
   ]
  },
  {
   "cell_type": "code",
   "execution_count": 32,
   "id": "53fb574c",
   "metadata": {},
   "outputs": [],
   "source": [
    "linear_vectorize_on_w = jit(vmap(_linear, in_axes=(None, {\"w\": None, \"b\": 0})))"
   ]
  },
  {
   "cell_type": "code",
   "execution_count": 33,
   "id": "1d827feb",
   "metadata": {},
   "outputs": [],
   "source": [
    "x = jnp.array([1,2,3,4,5], dtype=jnp.float32)\n",
    "\n",
    "B = jnp.array([\n",
    "                [-1,-3,-6,-19,-2],\n",
    "                [0, 0, 0, 0, 0],\n",
    "              ], dtype=jnp.float32)"
   ]
  },
  {
   "cell_type": "code",
   "execution_count": 34,
   "id": "8640e82a",
   "metadata": {},
   "outputs": [
    {
     "data": {
      "text/plain": [
       "DeviceArray([23., 54.], dtype=float32)"
      ]
     },
     "execution_count": 34,
     "metadata": {},
     "output_type": "execute_result"
    }
   ],
   "source": [
    "linear_vectorize_on_w(x, {\"w\": w, \"b\": B})"
   ]
  },
  {
   "cell_type": "markdown",
   "id": "90d19f71",
   "metadata": {},
   "source": [
    "### Using custom classes (structures)"
   ]
  },
  {
   "cell_type": "code",
   "execution_count": 36,
   "id": "8b9b42fe",
   "metadata": {},
   "outputs": [],
   "source": [
    "class LinearModel:\n",
    "    \n",
    "    def __init__(self, w, b):\n",
    "        self.w = w\n",
    "        self.b = b\n",
    "        \n",
    "    def __repr__(self):\n",
    "        return \"LinearModel(w={}, b={})\".format(self.w, self.b)\n",
    "        \n",
    "        \n",
    "def linear_flatten(model):\n",
    "      children = (model.w, model.b)\n",
    "      metadata = None\n",
    "      return (children, metadata)\n",
    "\n",
    "\n",
    "def linear_unflatten(metadata, children):\n",
    "    (w, b) = children\n",
    "    return LinearModel(w, b)\n",
    "\n",
    "register_pytree_node(\n",
    "    LinearModel,\n",
    "    linear_flatten,    # tell JAX what are the children nodes\n",
    "    linear_unflatten   # tell JAX how to pack back into a RegisteredSpecial\n",
    ")\n"
   ]
  },
  {
   "cell_type": "code",
   "execution_count": 37,
   "id": "74e2e4be",
   "metadata": {},
   "outputs": [],
   "source": [
    "model = LinearModel(\n",
    "    jnp.array([0.5, 0.4, 0.6, 0.8, 0.9], dtype=jnp.float32),\n",
    "    jnp.array([-1,-3,-6,-19,-2], dtype=jnp.float32)\n",
    ")"
   ]
  },
  {
   "cell_type": "code",
   "execution_count": 38,
   "id": "84d02e55",
   "metadata": {},
   "outputs": [],
   "source": [
    "def _linear(x, model):\n",
    "    return jnp.sum(jnp.dot(x,model.w) + model.b)\n",
    "\n",
    "linear = jit(vmap(_linear, in_axes=(None, LinearModel(None, 0))))"
   ]
  },
  {
   "cell_type": "code",
   "execution_count": 39,
   "id": "9a9863a1",
   "metadata": {},
   "outputs": [
    {
     "data": {
      "text/plain": [
       "DeviceArray([23., 54.], dtype=float32)"
      ]
     },
     "execution_count": 39,
     "metadata": {},
     "output_type": "execute_result"
    }
   ],
   "source": [
    "linear(x, LinearModel(w, B))"
   ]
  }
 ],
 "metadata": {
  "kernelspec": {
   "display_name": "Python 3",
   "language": "python",
   "name": "python3"
  },
  "language_info": {
   "codemirror_mode": {
    "name": "ipython",
    "version": 3
   },
   "file_extension": ".py",
   "mimetype": "text/x-python",
   "name": "python",
   "nbconvert_exporter": "python",
   "pygments_lexer": "ipython3",
   "version": "3.8.8"
  }
 },
 "nbformat": 4,
 "nbformat_minor": 5
}
